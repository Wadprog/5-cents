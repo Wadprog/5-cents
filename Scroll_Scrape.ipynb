{
  "nbformat": 4,
  "nbformat_minor": 0,
  "metadata": {
    "colab": {
      "provenance": [],
      "authorship_tag": "ABX9TyMb6aDbS3r34koAeGYVgeBr",
      "include_colab_link": true
    },
    "kernelspec": {
      "name": "python3",
      "display_name": "Python 3"
    },
    "language_info": {
      "name": "python"
    }
  },
  "cells": [
    {
      "cell_type": "markdown",
      "metadata": {
        "id": "view-in-github",
        "colab_type": "text"
      },
      "source": [
        "<a href=\"https://colab.research.google.com/github/Wadprog/5-cents/blob/main/Scroll_Scrape.ipynb\" target=\"_parent\"><img src=\"https://colab.research.google.com/assets/colab-badge.svg\" alt=\"Open In Colab\"/></a>"
      ]
    },
    {
      "cell_type": "code",
      "source": [
        "import json\n",
        "import requests\n",
        "import urllib.parse\n",
        "from urllib.parse import urlencode"
      ],
      "metadata": {
        "id": "uO41-9IfnWUZ"
      },
      "execution_count": null,
      "outputs": []
    },
    {
      "cell_type": "code",
      "source": [
        "#constants\n",
        "API_KEY='Your_APi_Key'"
      ],
      "metadata": {
        "id": "joa5vT2nna3t"
      },
      "execution_count": null,
      "outputs": []
    },
    {
      "cell_type": "code",
      "source": [
        "def get_scrapeops_url(url, scroll):\n",
        "      payload = {'api_key': API_KEY, 'url': url}\n",
        "      if(scroll):\n",
        "          js_scenario = {\n",
        "              \"instructions\": [\n",
        "                {\"wait\": 2000}, # Wait 2 seconds\n",
        "                {\"scroll_y\": 10000},\n",
        "                {\"wait\": 2000}]\n",
        "              }\n",
        "          payload['js_scenario'] =js_scenario\n",
        "\n",
        "      proxy_url = 'https://proxy.scrapeops.io/v1/?' + urlencode(payload)\n",
        "      return proxy_url"
      ],
      "metadata": {
        "id": "OjM_HgjHn6Kz"
      },
      "execution_count": null,
      "outputs": []
    },
    {
      "cell_type": "code",
      "source": [
        "#Test with wikipedia :\n",
        "url = 'https://www.ebay.com/sch/i.html?_from=R40&_trksid=p2380057.m570.l1313&_nkw=ipad&_sacat=0'\n",
        "response = requests.get(get_scrapeops_url(url, False))\n",
        "resText = response.text\n",
        "print(len(resText))"
      ],
      "metadata": {
        "colab": {
          "base_uri": "https://localhost:8080/"
        },
        "id": "L0bHPedkos1t",
        "outputId": "f66b3595-062b-4bd9-8246-25f6406d07d5"
      },
      "execution_count": null,
      "outputs": [
        {
          "output_type": "stream",
          "name": "stdout",
          "text": [
            "1523843\n"
          ]
        }
      ]
    },
    {
      "cell_type": "code",
      "source": [
        "response = requests.get(get_scrapeops_url(url, True))\n",
        "resText = response.text\n",
        "print(len(resText))"
      ],
      "metadata": {
        "colab": {
          "base_uri": "https://localhost:8080/"
        },
        "id": "EMy9GnKktqTW",
        "outputId": "dd64f29a-c347-4aa2-83fa-2ba40475f2fd"
      },
      "execution_count": null,
      "outputs": [
        {
          "output_type": "stream",
          "name": "stdout",
          "text": [
            "1875008\n"
          ]
        }
      ]
    },
    {
      "cell_type": "code",
      "execution_count": null,
      "metadata": {
        "id": "8Ci9M6rSnNnD"
      },
      "outputs": [],
      "source": []
    }
  ]
}